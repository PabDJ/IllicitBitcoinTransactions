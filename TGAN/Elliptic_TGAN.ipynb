{
 "cells": [
  {
   "cell_type": "markdown",
   "metadata": {},
   "source": [
    "# Elliptic TGAN\n",
    "\n",
    "Generation of samples with **TGAN** from Elliptic dataset."
   ]
  },
  {
   "cell_type": "markdown",
   "metadata": {},
   "source": [
    "### 1. Load the data\n",
    "\n",
    "The first step is to load the data wich we will use to fit TGAN. In order to do so, we will first\n",
    "import the function `tgan.data.load_data` and call it with the name the dataset that we want to load.\n",
    "\n",
    "\n",
    "\n",
    "1. `data` will contain a `pandas.DataFrame` with the table of data from the `Elliptic` dataset ready to be used to fit the model.\n",
    "\n",
    "2. `continous_columns` will contain a `list` with the indices of continuous columns."
   ]
  },
  {
   "cell_type": "code",
   "execution_count": 1,
   "metadata": {},
   "outputs": [],
   "source": [
    "import pandas as pd\n",
    "\n",
    "illicit = pd.read_csv(\"illicit.csv\") #CSV that contains illicit transactions from Elliptic data set (4545 samples)"
   ]
  },
  {
   "cell_type": "code",
   "execution_count": 2,
   "metadata": {},
   "outputs": [],
   "source": [
    "continuous_columns = illicit.columns.tolist()"
   ]
  },
  {
   "cell_type": "markdown",
   "metadata": {},
   "source": [
    "### 2. Create a TGAN instance\n",
    "\n",
    "The next step is to import TGAN and create an instance of the model.\n",
    "\n",
    "To do so, we need to import the `tgan.model.TGANModel` class and call it.\n",
    "\n",
    "This will create a TGAN instance with the default parameters.\n"
   ]
  },
  {
   "cell_type": "code",
   "execution_count": null,
   "metadata": {},
   "outputs": [],
   "source": [
    "from tgan.model import TGANModel\n",
    "\n",
    "tgan = TGANModel(\n",
    "    continuous_columns,\n",
    "    output='output',\n",
    "    gpu=None,\n",
    "    max_epoch=3,\n",
    "    steps_per_epoch=1000,\n",
    "    save_checkpoints=True,\n",
    "    restore_session=True,\n",
    "    batch_size=200,\n",
    "    z_dim=200,\n",
    "    noise=0.2,\n",
    "    l2norm=0.00001,\n",
    "    learning_rate=0.001,\n",
    "    num_gen_rnn=100,\n",
    "    num_gen_feature=100,\n",
    "    num_dis_layers=1,\n",
    "    num_dis_hidden=100,\n",
    "    optimizer='AdamOptimizer'\n",
    ")"
   ]
  },
  {
   "cell_type": "markdown",
   "metadata": {},
   "source": [
    "### 3. Fit the model\n",
    "\n",
    "The third step is to pass the data that we have loaded previously to the `TGANModel.fit` method to\n",
    "start the fitting.\n",
    "\n",
    "This process will not return anything, however, the progress of the fitting will be printed into screen.\n",
    "\n",
    "**NOTE**. Depending on the performance of the system you are running, and the parameters selected\n",
    "for the model, this step can take up to a few hours.\n"
   ]
  },
  {
   "cell_type": "code",
   "execution_count": null,
   "metadata": {},
   "outputs": [],
   "source": [
    "tgan.fit(illicit)"
   ]
  },
  {
   "cell_type": "markdown",
   "metadata": {},
   "source": [
    "### 5. Save and Load a model\n",
    "\n",
    "In the steps above we saw that the fitting process is slow, so we probably would like to avoid having to fit every we want to generate samples. Instead we can fit a model once, save it, and load it every time we want to sample new data.\n",
    "\n",
    "If we have a fitted model, we can save it by calling the `TGANModel.save` method, that only takes\n",
    "as argument the path to store the model into. Similarly, the `TGANModel.load` allows to load a model stored on disk by passing as argument a path where the model is stored.\n",
    "\n",
    "At this point we could use this model instance to generate more samples."
   ]
  },
  {
   "cell_type": "code",
   "execution_count": null,
   "metadata": {},
   "outputs": [],
   "source": [
    "model_path = 'TGAN_model/my_model_5k_steps'\n",
    "\n",
    "tgan.save(model_path)"
   ]
  },
  {
   "cell_type": "code",
   "execution_count": null,
   "metadata": {},
   "outputs": [],
   "source": [
    "#new_tgan = TGANModel.load(model_path)"
   ]
  },
  {
   "cell_type": "markdown",
   "metadata": {},
   "source": [
    "### 4. Sample new data\n",
    "\n",
    "After the model has been fit, we are ready to generate new samples by calling the `TGANModel.sample`\n",
    "method passing it the desired amount of samples.\n",
    "\n",
    "The returned object, `samples`, is a `pandas.DataFrame` containing a table of synthetic data with\n",
    "the same format as the input data."
   ]
  },
  {
   "cell_type": "code",
   "execution_count": null,
   "metadata": {},
   "outputs": [],
   "source": [
    "num_samples = 24947 #Same amount as natural illicit transactions\n",
    "\n",
    "samples = tgan.sample(num_samples)"
   ]
  },
  {
   "cell_type": "code",
   "execution_count": 35,
   "metadata": {},
   "outputs": [],
   "source": [
    "samples.to_csv(\"synthetic_illicit_tx.csv\", index=False)"
   ]
  }
 ],
 "metadata": {
  "kernelspec": {
   "display_name": "Python 3.7.13 ('tfTGAN')",
   "language": "python",
   "name": "python3"
  },
  "language_info": {
   "codemirror_mode": {
    "name": "ipython",
    "version": 3
   },
   "file_extension": ".py",
   "mimetype": "text/x-python",
   "name": "python",
   "nbconvert_exporter": "python",
   "pygments_lexer": "ipython3",
   "version": "3.7.13"
  },
  "vscode": {
   "interpreter": {
    "hash": "91f2c53ed30979801d4c7ba50487dffb2dad73ab23a02ab44370d94ad2e5d6b1"
   }
  }
 },
 "nbformat": 4,
 "nbformat_minor": 2
}
