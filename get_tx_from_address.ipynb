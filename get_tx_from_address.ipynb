{
 "cells": [
  {
   "cell_type": "code",
   "execution_count": 53,
   "id": "dd380a31",
   "metadata": {
    "scrolled": true
   },
   "outputs": [
    {
     "name": "stdout",
     "output_type": "stream",
     "text": [
      "             txId                                        transaction\n",
      "0       230325127  d6176384de4c0b98702eccb97f3ad6670bc8410d9da715...\n",
      "1       230325139  300c7e7bb34263eae7ff8b0a726d5869bf73d71081490c...\n",
      "2        86875675  7c790a31090462d720a172b3f55a51af2514971070db66...\n",
      "3       230325147  052ccc5d925e3b1bf59e9375a471d97aa8df2208336428...\n",
      "4       230325154  82666f65b865a0ada143fb460f38916618bf45e3132f07...\n",
      "...           ...                                                ...\n",
      "202799  157659046  18245b5afbd4f703e7c889978f133da3864362bc9f49ef...\n",
      "202800  157659306  799589bc36bbb9a6b6523fe0cb1ed1e78d48c3f587f051...\n",
      "202801  157668825  4d0a53797b5cc9a96294615d01be33448fe40ae42bfe59...\n",
      "202802  125788182  9e3b1aba58c182ac80bef2e19690f71ce5c507560bfc55...\n",
      "202803  157670868  7572580f10f8dfca7bac8dcfd82e81c23944e8149ab7c9...\n",
      "\n",
      "[156759 rows x 2 columns]\n",
      "             txId                                        transaction\n",
      "693     184703182  10c11d060302ef4588a5ac952962dcb88607990b6e22ca...\n",
      "695     232629023  4e645394a176febb7474f7b40cf5610b3c48767e52e31a...\n",
      "705     232345692  b17d50300c8bf7597ba35df8e2eccd947252f4337a40b4...\n",
      "1621    232947878  47f95f1f60232f3f4c92ba436390b01b8faeb85f7963ea...\n",
      "1623     17796937  436c7d24150a9d799346d48d7f3f88db754e0e62c52fd6...\n",
      "...           ...                                                ...\n",
      "201990  190135471  1d498e045ec560b9167e24b429bde9c83144a8ada808f4...\n",
      "202405  159039422  34e062405bc5bc8b2c253262f480897eb363fe7d52f12b...\n",
      "202746  157636225  8d6cdf6cdd34664cd02d98f4b9dde7080ba2ac9b24a487...\n",
      "202747  157636230  b9ef062152b3a9903d385198860542a75e4f677e274b78...\n",
      "202748  119820263  4c469d41eb43e119ddb94a1ba598f0cb3f9623d8797c9a...\n",
      "\n",
      "[4545 rows x 2 columns]\n"
     ]
    }
   ],
   "source": [
    "#Dataset goes from 1st January, 2016 to 2nd October, 2017\n",
    "\n",
    "import pandas as pd\n",
    "\n",
    "df_elliptic = pd.read_csv(\"Data\\elliptic_bitcoin_dataset\\elliptic_txs_classes.csv\")\n",
    "df_unkw = df_elliptic[df_elliptic[\"class\"] == \"unknown\"]\n",
    "df_illicit = df_elliptic[df_elliptic[\"class\"] == \"1\"]\n",
    "\n",
    "\n",
    "df_deanomyzed = pd.read_csv(\"Data\\99deanomyzed.csv\")\n",
    "tx_unkw_set = set(df_deanomyzed[\"txId\"]).intersection(set(df_unkw[\"txId\"]))\n",
    "tx_illicit_set = set(df_deanomyzed[\"txId\"]).intersection(set(df_illicit[\"txId\"]))\n",
    "\n",
    "finaldf = df_deanomyzed[df_deanomyzed[\"txId\"].isin(tx_unkw_set)]\n",
    "finaldf2 = df_deanomyzed[df_deanomyzed[\"txId\"].isin(tx_illicit_set)]\n",
    "\n",
    "\n",
    "print(finaldf)\n",
    "print(finaldf2)"
   ]
  },
  {
   "cell_type": "code",
   "execution_count": 40,
   "id": "d0cb92b1",
   "metadata": {},
   "outputs": [
    {
     "name": "stdout",
     "output_type": "stream",
     "text": [
      "178BzARKjkszrTyx4TxBKHhzGLZijdE26e\n",
      "200\n",
      "13aJVen6GVWrGmyUx26bqBoxSefJqbiYcq\n",
      "200\n",
      "1GQS1d42WRAJUBZvBC4gdx8MvDktMxeDBq\n",
      "200\n"
     ]
    }
   ],
   "source": [
    "#Retrieval of the addresses' transactions linked to Ponzi schemes and ransomware\n",
    "import requests\n",
    "import time\n",
    "\n",
    "with open(\"suspicious_addresses.txt\") as f:\n",
    "    for bitcoin_address in f: #loop each line that contains an address\n",
    "        address_out_of_range = 0 #if address' txs are not between 2016-01-01 03:50 and 2017-10-02 19:21 we set the variable to 1\n",
    "        bitcoin_address = bitcoin_address.rstrip()\n",
    "        URL_address = \"https://blockstream.info/api/address/\" + bitcoin_address\n",
    "        print(bitcoin_address)\n",
    "        try: \n",
    "            r = requests.get(URL_address, timeout=5)\n",
    "            print(r.status_code)\n",
    "        except requests.exceptions.Timeout as e:\n",
    "            with open(\"timeout_addresses.txt\", \"a\") as f1:\n",
    "                print(\"timeout: \" + bitcoin_address + \"\\n\")\n",
    "                line = bitcoin_address + '\\n'\n",
    "                f1.write(line) #in case we get a timeout, we save the address to try again later\n",
    "\n",
    "        if(r.status_code == 200):\n",
    "            total_tx = r.json()['chain_stats']['tx_count'] #total number of tx in which the address has been involved\n",
    "            tx_left = total_tx\n",
    "            \n",
    "            #Get transaction history for the specified address, sorted with newest first.\n",
    "            #Returns the first 25 confirmed transactions.\n",
    "            URL_last_tx = \"https://blockstream.info/api/address/\" + bitcoin_address + \"/txs\" \n",
    "            counter = int(total_tx / 25) + 1\n",
    "            for i in range (counter):\n",
    "                if (i == 0):\n",
    "                    r = requests.get(URL_last_tx, timeout=5)\n",
    "                \n",
    "                else:\n",
    "                    #Returns 25 transactions per page. More can be requested by specifying the last txid seen by the previous query.\n",
    "                    URL_more_tx = \"https://blockstream.info/api/address/\" + bitcoin_address + \"/txs/chain/\" + tx_hash \n",
    "                    r = requests.get(URL_more_tx, timeout=5)\n",
    "\n",
    "                if(tx_left >= 25):        \n",
    "                    for j in range (25):\n",
    "                        tx_hash = r.json()[j]['txid']\n",
    "                        tx_time = r.json()[j]['status']['block_time']\n",
    "                        tx_left-=1\n",
    "                        if(tx_time > 1451616540 and tx_time < 1506964860): #tx between 2016-01-01 03:50 and 2017-10-02 19:21\n",
    "                            with open('tx_from_suspicious_addresses.csv','a') as fd:\n",
    "                                row = str(tx_time) + \",\" + str(tx_hash) + \"\\n\"\n",
    "                                fd.write(row)\n",
    "                        else:\n",
    "                            address_out_of_range = 1\n",
    "                            break\n",
    "                else:\n",
    "                    #In case there are less than 25 transactions left, we avoid going out of range\n",
    "                    for j in range (tx_left):\n",
    "                        tx_hash = r.json()[j]['txid']\n",
    "                        tx_time = r.json()[j]['status']['block_time']\n",
    "                        if(tx_time > 1451616540 and tx_time < 1506964860): #tx between 2016-01-01 03:50 and 2017-10-02 19:21\n",
    "                            with open('tx_from_suspicious_addresses.csv','a') as fd:\n",
    "                                row = str(tx_time) + \",\" + str(tx_hash) + \"\\n\"\n",
    "                                fd.write(row)\n",
    "                        else:\n",
    "                            address_out_of_range = 1\n",
    "                            break\n",
    "                \n",
    "                if(address_out_of_range == 1):\n",
    "                    break\n",
    "                else:\n",
    "                    time.sleep(5) #To avoid a DoS attack to the API"
   ]
  },
  {
   "cell_type": "code",
   "execution_count": 2,
   "id": "9b452ec4",
   "metadata": {},
   "outputs": [
    {
     "name": "stdout",
     "output_type": "stream",
     "text": [
      "Empty DataFrame\n",
      "Columns: [txId, transaction]\n",
      "Index: []\n"
     ]
    }
   ],
   "source": [
    "import pandas as pd\n",
    "\n",
    "df_new_txs = pd.read_csv(\"tx_from_suspicious_addresses.csv\")\n",
    "df_deanomyzed = pd.read_csv(\"Data\\99deanomyzed.csv\")\n",
    "\n",
    "repeated_tx_set = set(df_deanomyzed[\"transaction\"]).intersection(set(df_new_txs[\"transaction\"]))\n",
    "repeated_df = df_deanomyzed[df_deanomyzed[\"txId\"].isin(repeated_tx_set)]\n",
    "print(repeated_df)"
   ]
  },
  {
   "cell_type": "code",
   "execution_count": null,
   "id": "6e94db07",
   "metadata": {},
   "outputs": [],
   "source": []
  }
 ],
 "metadata": {
  "kernelspec": {
   "display_name": "Python 3 (ipykernel)",
   "language": "python",
   "name": "python3"
  },
  "language_info": {
   "codemirror_mode": {
    "name": "ipython",
    "version": 3
   },
   "file_extension": ".py",
   "mimetype": "text/x-python",
   "name": "python",
   "nbconvert_exporter": "python",
   "pygments_lexer": "ipython3",
   "version": "3.9.7"
  }
 },
 "nbformat": 4,
 "nbformat_minor": 5
}
